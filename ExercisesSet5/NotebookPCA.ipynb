{
 "cells": [
  {
   "cell_type": "markdown",
   "metadata": {},
   "source": [
    "# Principal Component Analysis"
   ]
  },
  {
   "cell_type": "markdown",
   "metadata": {},
   "source": [
    "## On a pizza dataset\n",
    "Link to data (from data.world): https://data.world/sdhilip/pizza-datasets\n",
    "\n",
    "Or (from Google Drive): https://drive.google.com/file/d/1w1x2r2FckkdVX9Pte9lTcbjyFTG35T6C/view?usp=sharing\n",
    "\n",
    "Or (from GitHub): https://github.com/pauldubois98/RefresherMaths2023/blob/main/ExercisesSet5/pizza.csv"
   ]
  },
  {
   "cell_type": "markdown",
   "metadata": {},
   "source": [
    "![pizza database illustration](pizza.png)"
   ]
  },
  {
   "cell_type": "markdown",
   "metadata": {},
   "source": [
    "Step -1: Imports libraries"
   ]
  },
  {
   "cell_type": "code",
   "execution_count": 1,
   "metadata": {},
   "outputs": [],
   "source": [
    "import numpy as np\n",
    "import pandas as pd\n",
    "import matplotlib.pyplot as plt"
   ]
  },
  {
   "cell_type": "markdown",
   "metadata": {},
   "source": [
    "Step 0: Read data"
   ]
  },
  {
   "cell_type": "code",
   "execution_count": 2,
   "metadata": {},
   "outputs": [
    {
     "data": {
      "text/html": [
       "<div>\n",
       "<style scoped>\n",
       "    .dataframe tbody tr th:only-of-type {\n",
       "        vertical-align: middle;\n",
       "    }\n",
       "\n",
       "    .dataframe tbody tr th {\n",
       "        vertical-align: top;\n",
       "    }\n",
       "\n",
       "    .dataframe thead th {\n",
       "        text-align: right;\n",
       "    }\n",
       "</style>\n",
       "<table border=\"1\" class=\"dataframe\">\n",
       "  <thead>\n",
       "    <tr style=\"text-align: right;\">\n",
       "      <th></th>\n",
       "      <th>brand</th>\n",
       "      <th>id</th>\n",
       "      <th>mois</th>\n",
       "      <th>prot</th>\n",
       "      <th>fat</th>\n",
       "      <th>ash</th>\n",
       "      <th>sodium</th>\n",
       "      <th>carb</th>\n",
       "      <th>cal</th>\n",
       "    </tr>\n",
       "  </thead>\n",
       "  <tbody>\n",
       "    <tr>\n",
       "      <th>0</th>\n",
       "      <td>A</td>\n",
       "      <td>14069</td>\n",
       "      <td>27.82</td>\n",
       "      <td>21.43</td>\n",
       "      <td>44.87</td>\n",
       "      <td>5.11</td>\n",
       "      <td>1.77</td>\n",
       "      <td>0.77</td>\n",
       "      <td>4.93</td>\n",
       "    </tr>\n",
       "    <tr>\n",
       "      <th>1</th>\n",
       "      <td>A</td>\n",
       "      <td>14053</td>\n",
       "      <td>28.49</td>\n",
       "      <td>21.26</td>\n",
       "      <td>43.89</td>\n",
       "      <td>5.34</td>\n",
       "      <td>1.79</td>\n",
       "      <td>1.02</td>\n",
       "      <td>4.84</td>\n",
       "    </tr>\n",
       "    <tr>\n",
       "      <th>2</th>\n",
       "      <td>A</td>\n",
       "      <td>14025</td>\n",
       "      <td>28.35</td>\n",
       "      <td>19.99</td>\n",
       "      <td>45.78</td>\n",
       "      <td>5.08</td>\n",
       "      <td>1.63</td>\n",
       "      <td>0.80</td>\n",
       "      <td>4.95</td>\n",
       "    </tr>\n",
       "    <tr>\n",
       "      <th>3</th>\n",
       "      <td>A</td>\n",
       "      <td>14016</td>\n",
       "      <td>30.55</td>\n",
       "      <td>20.15</td>\n",
       "      <td>43.13</td>\n",
       "      <td>4.79</td>\n",
       "      <td>1.61</td>\n",
       "      <td>1.38</td>\n",
       "      <td>4.74</td>\n",
       "    </tr>\n",
       "    <tr>\n",
       "      <th>4</th>\n",
       "      <td>A</td>\n",
       "      <td>14005</td>\n",
       "      <td>30.49</td>\n",
       "      <td>21.28</td>\n",
       "      <td>41.65</td>\n",
       "      <td>4.82</td>\n",
       "      <td>1.64</td>\n",
       "      <td>1.76</td>\n",
       "      <td>4.67</td>\n",
       "    </tr>\n",
       "  </tbody>\n",
       "</table>\n",
       "</div>"
      ],
      "text/plain": [
       "  brand     id   mois   prot    fat   ash  sodium  carb   cal\n",
       "0     A  14069  27.82  21.43  44.87  5.11    1.77  0.77  4.93\n",
       "1     A  14053  28.49  21.26  43.89  5.34    1.79  1.02  4.84\n",
       "2     A  14025  28.35  19.99  45.78  5.08    1.63  0.80  4.95\n",
       "3     A  14016  30.55  20.15  43.13  4.79    1.61  1.38  4.74\n",
       "4     A  14005  30.49  21.28  41.65  4.82    1.64  1.76  4.67"
      ]
     },
     "execution_count": 2,
     "metadata": {},
     "output_type": "execute_result"
    }
   ],
   "source": [
    "df = pd.read_csv('pizza.csv')\n",
    "df.head()"
   ]
  },
  {
   "cell_type": "markdown",
   "metadata": {},
   "source": [
    "Put your data of interest in a matrix `X`"
   ]
  },
  {
   "cell_type": "code",
   "execution_count": 3,
   "metadata": {},
   "outputs": [
    {
     "data": {
      "text/plain": [
       "(300, 7)"
      ]
     },
     "execution_count": 3,
     "metadata": {},
     "output_type": "execute_result"
    }
   ],
   "source": [
    "X = df[['mois', 'prot', 'fat', 'ash', 'sodium', 'carb', 'cal']]\n",
    "X.shape"
   ]
  },
  {
   "cell_type": "markdown",
   "metadata": {},
   "source": [
    "Step 1: Standardize data"
   ]
  },
  {
   "cell_type": "code",
   "execution_count": 7,
   "metadata": {},
   "outputs": [
    {
     "data": {
      "text/html": [
       "<div>\n",
       "<style scoped>\n",
       "    .dataframe tbody tr th:only-of-type {\n",
       "        vertical-align: middle;\n",
       "    }\n",
       "\n",
       "    .dataframe tbody tr th {\n",
       "        vertical-align: top;\n",
       "    }\n",
       "\n",
       "    .dataframe thead th {\n",
       "        text-align: right;\n",
       "    }\n",
       "</style>\n",
       "<table border=\"1\" class=\"dataframe\">\n",
       "  <thead>\n",
       "    <tr style=\"text-align: right;\">\n",
       "      <th></th>\n",
       "      <th>mois</th>\n",
       "      <th>prot</th>\n",
       "      <th>fat</th>\n",
       "      <th>ash</th>\n",
       "      <th>sodium</th>\n",
       "      <th>carb</th>\n",
       "      <th>cal</th>\n",
       "    </tr>\n",
       "  </thead>\n",
       "  <tbody>\n",
       "    <tr>\n",
       "      <th>0</th>\n",
       "      <td>-1.369526</td>\n",
       "      <td>1.252089</td>\n",
       "      <td>2.745255</td>\n",
       "      <td>1.950635</td>\n",
       "      <td>2.971721</td>\n",
       "      <td>-1.225463</td>\n",
       "      <td>2.675659</td>\n",
       "    </tr>\n",
       "    <tr>\n",
       "      <th>1</th>\n",
       "      <td>-1.299391</td>\n",
       "      <td>1.225669</td>\n",
       "      <td>2.636070</td>\n",
       "      <td>2.131776</td>\n",
       "      <td>3.025723</td>\n",
       "      <td>-1.211598</td>\n",
       "      <td>2.530505</td>\n",
       "    </tr>\n",
       "    <tr>\n",
       "      <th>2</th>\n",
       "      <td>-1.314046</td>\n",
       "      <td>1.028292</td>\n",
       "      <td>2.846640</td>\n",
       "      <td>1.927007</td>\n",
       "      <td>2.593708</td>\n",
       "      <td>-1.223800</td>\n",
       "      <td>2.707915</td>\n",
       "    </tr>\n",
       "    <tr>\n",
       "      <th>3</th>\n",
       "      <td>-1.083752</td>\n",
       "      <td>1.053158</td>\n",
       "      <td>2.551397</td>\n",
       "      <td>1.698611</td>\n",
       "      <td>2.539707</td>\n",
       "      <td>-1.191630</td>\n",
       "      <td>2.369224</td>\n",
       "    </tr>\n",
       "    <tr>\n",
       "      <th>4</th>\n",
       "      <td>-1.090033</td>\n",
       "      <td>1.228777</td>\n",
       "      <td>2.386506</td>\n",
       "      <td>1.722238</td>\n",
       "      <td>2.620709</td>\n",
       "      <td>-1.170554</td>\n",
       "      <td>2.256327</td>\n",
       "    </tr>\n",
       "  </tbody>\n",
       "</table>\n",
       "</div>"
      ],
      "text/plain": [
       "       mois      prot       fat       ash    sodium      carb       cal\n",
       "0 -1.369526  1.252089  2.745255  1.950635  2.971721 -1.225463  2.675659\n",
       "1 -1.299391  1.225669  2.636070  2.131776  3.025723 -1.211598  2.530505\n",
       "2 -1.314046  1.028292  2.846640  1.927007  2.593708 -1.223800  2.707915\n",
       "3 -1.083752  1.053158  2.551397  1.698611  2.539707 -1.191630  2.369224\n",
       "4 -1.090033  1.228777  2.386506  1.722238  2.620709 -1.170554  2.256327"
      ]
     },
     "execution_count": 7,
     "metadata": {},
     "output_type": "execute_result"
    }
   ],
   "source": [
    "means = X.mean(axis=0)\n",
    "stds = X.std(axis=0)\n",
    "X = (X - means) / stds\n",
    "X.head()"
   ]
  },
  {
   "cell_type": "markdown",
   "metadata": {},
   "source": [
    "Step 2: Compute covariance matrix"
   ]
  },
  {
   "cell_type": "code",
   "execution_count": 18,
   "metadata": {},
   "outputs": [
    {
     "data": {
      "text/plain": [
       "array([[ 1.   ,  0.36 , -0.171,  0.266, -0.102, -0.592, -0.764],\n",
       "       [ 0.36 ,  1.   ,  0.498,  0.824,  0.429, -0.854,  0.07 ],\n",
       "       [-0.171,  0.498,  1.   ,  0.792,  0.933, -0.64 ,  0.765],\n",
       "       [ 0.266,  0.824,  0.792,  1.   ,  0.808, -0.899,  0.326],\n",
       "       [-0.102,  0.429,  0.933,  0.808,  1.   , -0.62 ,  0.672],\n",
       "       [-0.592, -0.854, -0.64 , -0.899, -0.62 ,  1.   , -0.023],\n",
       "       [-0.764,  0.07 ,  0.765,  0.326,  0.672, -0.023,  1.   ]])"
      ]
     },
     "execution_count": 18,
     "metadata": {},
     "output_type": "execute_result"
    }
   ],
   "source": [
    "C = np.cov(X.T)\n",
    "C.round(3)"
   ]
  },
  {
   "cell_type": "markdown",
   "metadata": {},
   "source": [
    "Step 3: Compute eigenvalues"
   ]
  },
  {
   "cell_type": "code",
   "execution_count": 16,
   "metadata": {},
   "outputs": [
    {
     "data": {
      "text/plain": [
       "array([4.172, 2.29 , 0.415, 0.095, 0.028, 0.   , 0.   ])"
      ]
     },
     "execution_count": 16,
     "metadata": {},
     "output_type": "execute_result"
    }
   ],
   "source": [
    "eig_vals = np.linalg.eigvals(C)\n",
    "eig_vals.round(3)"
   ]
  },
  {
   "cell_type": "markdown",
   "metadata": {},
   "source": [
    "Compute the explained variance ratio & plot it"
   ]
  },
  {
   "cell_type": "code",
   "execution_count": 23,
   "metadata": {},
   "outputs": [
    {
     "data": {
      "text/plain": [
       "array([0.596, 0.327, 0.059, 0.014, 0.004, 0.   , 0.   ])"
      ]
     },
     "execution_count": 23,
     "metadata": {},
     "output_type": "execute_result"
    }
   ],
   "source": [
    "explained_var = eig_vals / eig_vals.sum()\n",
    "explained_var.round(3)"
   ]
  },
  {
   "cell_type": "code",
   "execution_count": 38,
   "metadata": {},
   "outputs": [
    {
     "data": {
      "image/png": "[encoded data removed]",
      "text/plain": [
       "<Figure size 1000x500 with 2 Axes>"
      ]
     },
     "metadata": {},
     "output_type": "display_data"
    }
   ],
   "source": [
    "plt.figure(figsize=(10, 5))\n",
    "\n",
    "plt.subplot(1, 2, 1)\n",
    "plt.bar(np.arange(1, len(explained_var)+1), explained_var)\n",
    "plt.ylim(0, 1)\n",
    "plt.xlabel('Component')\n",
    "plt.ylabel('Explained variance')\n",
    "\n",
    "plt.subplot(1, 2, 2)\n",
    "plt.plot(np.arange(1, len(explained_var)+1), np.cumsum(explained_var), 'o-')\n",
    "plt.xlabel('Number of components')\n",
    "plt.ylabel('Cumulative explained variance')\n",
    "plt.show()"
   ]
  },
  {
   "cell_type": "markdown",
   "metadata": {},
   "source": [
    "Step 4: Compute eigenvectors & sort them"
   ]
  },
  {
   "cell_type": "code",
   "execution_count": 42,
   "metadata": {},
   "outputs": [
    {
     "data": {
      "text/plain": [
       "(array([ 0.065,  0.379,  0.447,  0.472,  0.436, -0.425,  0.244]),\n",
       " array([ 0.628,  0.27 , -0.234,  0.111, -0.202, -0.32 , -0.567]))"
      ]
     },
     "execution_count": 42,
     "metadata": {},
     "output_type": "execute_result"
    }
   ],
   "source": [
    "eigenvalues, eig_vectors = np.linalg.eig(C)\n",
    "idx = eigenvalues.argsort()[::-1]\n",
    "eigenvalues = eigenvalues[idx]\n",
    "eig_vectors = eig_vectors[:, idx]\n",
    "# top 2 components\n",
    "eig_vectors[:, 0].round(3), eig_vectors[:, 1].round(3)"
   ]
  },
  {
   "cell_type": "markdown",
   "metadata": {},
   "source": [
    "Step 5: Project data onto the first two principal components"
   ]
  },
  {
   "cell_type": "code",
   "execution_count": 43,
   "metadata": {},
   "outputs": [
    {
     "data": {
      "text/html": [
       "<div>\n",
       "<style scoped>\n",
       "    .dataframe tbody tr th:only-of-type {\n",
       "        vertical-align: middle;\n",
       "    }\n",
       "\n",
       "    .dataframe tbody tr th {\n",
       "        vertical-align: top;\n",
       "    }\n",
       "\n",
       "    .dataframe thead th {\n",
       "        text-align: right;\n",
       "    }\n",
       "</style>\n",
       "<table border=\"1\" class=\"dataframe\">\n",
       "  <thead>\n",
       "    <tr style=\"text-align: right;\">\n",
       "      <th></th>\n",
       "      <th>0</th>\n",
       "      <th>1</th>\n",
       "    </tr>\n",
       "  </thead>\n",
       "  <tbody>\n",
       "    <tr>\n",
       "      <th>0</th>\n",
       "      <td>5.001985</td>\n",
       "      <td>-2.674746</td>\n",
       "    </tr>\n",
       "    <tr>\n",
       "      <th>1</th>\n",
       "      <td>5.015375</td>\n",
       "      <td>-2.525076</td>\n",
       "    </tr>\n",
       "    <tr>\n",
       "      <th>2</th>\n",
       "      <td>4.797424</td>\n",
       "      <td>-2.669240</td>\n",
       "    </tr>\n",
       "    <tr>\n",
       "      <th>3</th>\n",
       "      <td>4.462088</td>\n",
       "      <td>-2.281218</td>\n",
       "    </tr>\n",
       "    <tr>\n",
       "      <th>4</th>\n",
       "      <td>4.464433</td>\n",
       "      <td>-2.155551</td>\n",
       "    </tr>\n",
       "  </tbody>\n",
       "</table>\n",
       "</div>"
      ],
      "text/plain": [
       "          0         1\n",
       "0  5.001985 -2.674746\n",
       "1  5.015375 -2.525076\n",
       "2  4.797424 -2.669240\n",
       "3  4.462088 -2.281218\n",
       "4  4.464433 -2.155551"
      ]
     },
     "execution_count": 43,
     "metadata": {},
     "output_type": "execute_result"
    }
   ],
   "source": [
    "X_pca = X.dot(eig_vectors[:, :2])\n",
    "X_pca.head()"
   ]
  }
 ],
 "metadata": {
  "kernelspec": {
   "display_name": "Python 3",
   "language": "python",
   "name": "python3"
  },
  "language_info": {
   "codemirror_mode": {
    "name": "ipython",
    "version": 3
   },
   "file_extension": ".py",
   "mimetype": "text/x-python",
   "name": "python",
   "nbconvert_exporter": "python",
   "pygments_lexer": "ipython3",
   "version": "3.11.4"
  },
  "orig_nbformat": 4
 },
 "nbformat": 4,
 "nbformat_minor": 2
}
